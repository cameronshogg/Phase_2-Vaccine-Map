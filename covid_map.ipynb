# Remember to install your packages :^)
# pip install geopandas
# pip install pandas_bokeh
# pip install matplotlib

import geopandas
import pandas as pd
import pandas_bokeh
import matplotlib.pyplot as plt
pandas_bokeh.output_notebook()

#Enable this for file output
#pandas_bokeh.output_file("covid_map.html")

canada = geopandas.read_file("lfsa000b16a_e.shp")
ontario = canada[canada['PRUID'] == '35']

ontario.head()

# Plotting Stage 2 Postal Codes
df=pd.DataFrame({'PCODE': ['L1S','L1T','L1V','L1X', 'L1Z',#Durham West
                           'L9E',#Halton
                           'L8W','L9C',#Hamilton
                           'L2G',#Niagara
                           'K1T','K1V','K2V',#Ottawa
                           'L3Z',#Simcoe-Muskoka
                           'N5H',#Elgin
                           'L4T',#North Etokicoke
                           'L4W','L4X','L4Z','L5A','L5B','L5R',#E Mississauga
                           'L5C','L5K','L5L',#SW Mississauga
                           'L5M','L5N','L5V','L5W',#NW Mississauga
                           'L6P','L6R','L6S','L6T','L7C',#Bramalea
                           'L6V','L6W','L6X','L6Y','L6Z','L7A',#Brampton
                           'M1B','M1C','M1E','M1G','M1H','M1J','M1K','M1M','M1P','M1R','M1X',#Scarborough S
                           'M2J','M2M','M2R','M3A','M3C','M3H','M4A',#North York Central
                           'M3J','M3K','M3L','M3M','M3N','M6B','M6L','M6M','M9L','M9M','M9N','M9P',#North York West
                           'M4X','M5A','M5B',#Mid-East Toronto
                           'M5N','M6A',#North Toronto
                           'M5V','M6E','M6H',#Mid-West Toronto
                           'M6K','M6N','M8V',#West Toronto
                           'M9A','M9B','M9C',#South Etobicoke
                           'M9R','M9V','M9W',#North Etobicoke
                           'M1L','M4H',#East Toronto
                           'M1S','M1T','M1V','M1W',#Scarborough North
                           'N2C',#Waterloo
                           'N1K',#Guelph-Puslinch
                           'N8X','N8Y','N9A','N9B','N9C',#Windsor
                           'N8H','N9Y',#Essex South Shore
                           'L0J','L4B','L4E','L4H','L4J','L4K','L4L','L6A',#Western York Region
                           'L3S','L3T','L6B','L6C','L6E',#Eastern York Region
                           ], 'A':([1] * 114)})

# Join ontario dataset with sample data
new_df=ontario.join(df.set_index('PCODE'), on='CFSAUID')

#Plot
new_df.plot_bokeh(simplify_shapes=1,
                  category="A", 
                  show_colorbar=False,
                  #colormap=["red","grey"], 
                  hovertool_columns=["CFSAUID"],
                  alpha = 0.5)
